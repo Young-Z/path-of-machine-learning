{
 "cells": [
  {
   "cell_type": "markdown",
   "metadata": {
    "collapsed": true,
    "slideshow": {
     "slide_type": "-"
    }
   },
   "source": [
    "# Learning Path\n",
    "---\n",
    "### this file records all the good resources that can help you to master machine learning, it will list all the resources by the level of the knowledge. resources notes will be in the corresponding folders.\n",
    "---\n",
    "## 1. Beginner\n",
    "\n",
    "[Deep Learning SIMPLIFIED](https://www.youtube.com/watch?v=b99UVkWzYTQ&list=PLjJh1vlSEYgvGod9wWiydumYl8hOXixNu)<br>\n",
    "Give you some basic ideas of deep learning in a intuitive way.\n",
    "\n",
    "[Hello World - Machine Learning Recipes](https://www.youtube.com/watch?v=cKxRvEZd3Mw)<br>\n",
    "Explain basic ideas of machine learning and explorer some libraries and tools to create a simple machine learning application.\n",
    "\n",
    "---\n",
    "## 2. Intermediate\n",
    "\n",
    "[Python Fundamentals](https://app.pluralsight.com/library/courses/python-fundamentals/table-of-contents)<br>\n",
    "Python is great language for you to develop machine learning application, there are a lot of good ML library for you to use, so here I list python as part of ML learning path. *this course require subscription to acess, but feel free to learn from other resourse. \n",
    "\n",
    "[Machine Learning Course Caltech](https://www.youtube.com/watch?v=mbyG85GZ0PI&hd=1)<br>\n",
    "Great Great course for you to learn machine learning in both concept and pratical.\n",
    "\n",
    "[Machine learning in Python with scikit-learn](https://www.youtube.com/watch?v=elojMnjn4kk&list=PL5-da3qGB5ICeMbQuqbbCOQWcS6OYBr5A)<br>\n",
    "Great course for you to learn machine learning with the popular scikit-learn.\n"
   ]
  },
  {
   "cell_type": "code",
   "execution_count": null,
   "metadata": {
    "collapsed": true
   },
   "outputs": [],
   "source": []
  }
 ],
 "metadata": {
  "celltoolbar": "Slideshow",
  "kernelspec": {
   "display_name": "Python 3",
   "language": "python",
   "name": "python3"
  },
  "language_info": {
   "codemirror_mode": {
    "name": "ipython",
    "version": 3
   },
   "file_extension": ".py",
   "mimetype": "text/x-python",
   "name": "python",
   "nbconvert_exporter": "python",
   "pygments_lexer": "ipython3",
   "version": "3.6.0"
  }
 },
 "nbformat": 4,
 "nbformat_minor": 2
}
