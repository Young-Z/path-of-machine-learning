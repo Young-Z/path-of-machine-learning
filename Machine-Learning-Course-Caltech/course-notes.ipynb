{
 "cells": [
  {
   "cell_type": "markdown",
   "metadata": {},
   "source": [
    "---\n",
    "# Lecture 1 The Learning Problem\n",
    "\n",
    "### 1. When Learning Is Used?\n",
    "#### A pattern exists\n",
    "Nice to have, we can run the machine learning to find out if there is a pattern to learn.\n",
    "#### We cannot pin down it mathematically\n",
    "Nice to have, if we can pin down the problem mathematically, we can implement the target function directly instead of finding the g$\\approx$f\n",
    "#### We have data\n",
    "Must have, if no enough data, we cannot create a final hypothesis function to generalize the target function. Topic of lecture 2 \n",
    "\n",
    "### 2. Components of learning\n",
    "##### Learning Algorithm\n",
    "1.take in traning data\n",
    "\n",
    "2.create a model that generate the H(hypothesis set)\n",
    "\n",
    "3.output best hypothesis function g, best means g is the best approximate to the target function.\n",
    "<img width=\"500px\" height=\"500px\" src=\"./components-of-learning.png\" />\n",
    "\n",
    "### 3. Binary Perceptron Learning Algorithm\n",
    "<img width=\"500px\" height=\"500px\" src=\"./PLA.png\" />\n",
    "\n",
    "### 4. Basic Learning Types\n",
    "##### Supervised Learning\n",
    "(input, correct output from target function), Final hypothesis function g$\\approx$f\n",
    "#### Unsupervised Learning\n",
    "(input, unknow output from target function), Final hypothesis function should find the inner relationship of the input data, later on if knows one output from target function, I can classify the input data\n",
    "#### Reinforcement Learning\n",
    "(input, grade output from the hypothesis), **Note too much on the topic yet\n",
    "\n",
    "<img width=\"500px\" height=\"500px\" src=\"./basic-learning-types.png\" />\n",
    "---"
   ]
  },
  {
   "cell_type": "markdown",
   "metadata": {},
   "source": [
    "---\n",
    "# Lecture 2 Is Learning Feasible?\n",
    "\n",
    "### Learning the target function is impossible\n",
    "means unknow target function f\n",
    "### Hoeffding's Inequality\n",
    "$\\mathit{E}_in$ means in-sample error. $\\mathit{E}_out$ means out-sample error.\n",
    "\n",
    "Since we don't know the target function f, we cannot know the error rate from out-sample, but with hoeffding's inequality, we can bound $\\mathit{E}_in$ probably close to $\\mathit{E}_out$ greater than $\\epsilon$ to a small probability by giving big sample set N and proper $\\epsilon$\n",
    "<img width=\"500px\" height=\"500px\" src=\"./hoeffdings-inequality.png\" />\n",
    "\n",
    "We are learning to get g$\\approx$f, means we are not only dealing with one hypothesis function h, but a set of them, H, but hoeffding's inequality only work for single case, if we apply it multi-times the probability of miss represent will greater than $\\epsilon$, so we need union bound for the H. M here is the number of hyphothesis in H. <b>M is determined by the learning algorithm model, bigger M looser the link between $\\mathit{E}_in$ and $\\mathit{E}_out$, means g might </b>\n",
    "<img width=\"500px\" height=\"500px\" src=\"./the-final-verdict.png\" />\n",
    "\n",
    "\n",
    "---"
   ]
  },
  {
   "cell_type": "markdown",
   "metadata": {},
   "source": [
    "---\n",
    "# Lecture 3\n",
    "\n",
    "### 1. Matrix calculus cheatsheet\n",
    "<img width=\"250px\" height=\"250px\" src=\"https://i.stack.imgur.com/apR2q.png\" />\n",
    "\n",
    "### 2. [Linear regression](https://www.khanacademy.org/math/statistics-probability/describing-relationships-quantitative-data/residuals-least-squares-rsquared/a/introduction-to-residuals)<br>\n",
    "Great explaination on linear regression\n",
    "\n",
    "---"
   ]
  },
  {
   "cell_type": "code",
   "execution_count": null,
   "metadata": {
    "collapsed": true
   },
   "outputs": [],
   "source": []
  }
 ],
 "metadata": {
  "kernelspec": {
   "display_name": "Python 3",
   "language": "python",
   "name": "python3"
  },
  "language_info": {
   "codemirror_mode": {
    "name": "ipython",
    "version": 3
   },
   "file_extension": ".py",
   "mimetype": "text/x-python",
   "name": "python",
   "nbconvert_exporter": "python",
   "pygments_lexer": "ipython3",
   "version": "3.6.0"
  }
 },
 "nbformat": 4,
 "nbformat_minor": 2
}
