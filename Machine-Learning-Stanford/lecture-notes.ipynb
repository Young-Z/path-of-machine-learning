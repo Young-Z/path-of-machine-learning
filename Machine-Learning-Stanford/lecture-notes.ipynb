{
 "cells": [
  {
   "cell_type": "markdown",
   "metadata": {},
   "source": [
    "---\n",
    "# Week 1\n",
    "##### Terms and notations\n",
    "\n",
    "\n",
    "---\n",
    "### 1. Examples of Using machine learning\n",
    "- Database minning\n",
    "- Applications can't program by hand\n",
    "- Self-customizing programs\n",
    "- Understanding human learning(brain, real AI)\n",
    "Basically machine learning will have learning algorithm to figure out the inner relationship within given data, known as pattern. and generalize the pattern to all the data in it's domain.\n",
    "\n",
    "### 2. What is machine learning [link](https://www.coursera.org/learn/machine-learning/supplement/aAgxl/what-is-machine-learning)\n",
    "\n",
    "### 3. Supervised Learning\n",
    "Given correct outcomes along with input data. Learning algorithm is trying to find a hypothesis function to map input data and outcomes. **Each input and outcome is meanful in the big picture of application.\n",
    "#### Regression\n",
    "Outcomes are continuous value\n",
    "#### Classification\n",
    "Outcomes are discrete value or you can say countable value.\n",
    "\n",
    "*Note X and O is the discrete valued outcome(0|1 or 100|200) for each input, axises are features of each input. learning algorithm learn the relationship from given inputs and outcomes to predict the outcomes(X|O) for new inputs.\n",
    "<img width=\"500px\" height=\"500px\" src=\"./resources/classification-example.png\" />\n",
    "\n",
    "### 4. Unsupervised Learning\n",
    "Given input data only. Learning algorithm is going to find the inner structures of input data. **Each input is not necessary to have meaning in the big picture of application, but the cluster of the inputs will have a meaning to the application. ex: your speech and background noise, each input maybe meaning less for you, but by well clustering of some inputs, it will be formed as the sound wave of your speech. the clustered inputs now have meaning as your speech.\n",
    "\n",
    "---\n",
    "### Math background\n",
    "##### Continuous and discrete ($w^T$) [wiki](https://en.wikipedia.org/wiki/Continuous_and_discrete_variables) [link2](https://www.mathsisfun.com/data/data-discrete-continuous.html)\n",
    "\n",
    "\n",
    "\n",
    "---"
   ]
  },
  {
   "cell_type": "code",
   "execution_count": null,
   "metadata": {
    "collapsed": true
   },
   "outputs": [],
   "source": []
  }
 ],
 "metadata": {
  "kernelspec": {
   "display_name": "Python 3",
   "language": "python",
   "name": "python3"
  },
  "language_info": {
   "codemirror_mode": {
    "name": "ipython",
    "version": 3
   },
   "file_extension": ".py",
   "mimetype": "text/x-python",
   "name": "python",
   "nbconvert_exporter": "python",
   "pygments_lexer": "ipython3",
   "version": "3.6.0"
  }
 },
 "nbformat": 4,
 "nbformat_minor": 2
}
